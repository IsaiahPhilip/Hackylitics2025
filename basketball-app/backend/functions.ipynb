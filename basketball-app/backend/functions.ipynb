{
 "cells": [
  {
   "cell_type": "code",
   "execution_count": null,
   "metadata": {},
   "outputs": [],
   "source": [
    "# Imports\n",
    "import pandas as pd\n",
    "import numpy as np\n",
    "import matplotlib.pyplot as plt"
   ]
  },
  {
   "cell_type": "code",
   "execution_count": null,
   "metadata": {},
   "outputs": [
    {
     "data": {
      "image/png": "[encoded data removed]",
      "text/plain": [
       "<Figure size 432x288 with 1 Axes>"
      ]
     },
     "metadata": {
      "needs_background": "light"
     },
     "output_type": "display_data"
    }
   ],
   "source": [
    "# Read Data\n",
    "DATA_PATH = \"C:/Users/Computer/Documents/GT/2025 01 Spring/Hackyltics 2025/\"\n",
    "data = pd.read_csv(DATA_PATH + \"NBA_2024_Shots.csv\")\n",
    "\n",
    "x_coord = data.iloc[:,20]\n",
    "rounded_x_coord = np.round(x_coord)\n",
    "y_coord = data.iloc[:,21]\n",
    "rounded_y_coord = np.round(y_coord)\n",
    "\n",
    "plt.scatter(rounded_y_coord, rounded_x_coord)\n",
    "plt.xlim(0, 100)\n",
    "plt.ylim(-25, 25)\n",
    "plt.show()\n"
   ]
  },
  {
   "cell_type": "code",
   "execution_count": 190,
   "metadata": {},
   "outputs": [
    {
     "name": "stdout",
     "output_type": "stream",
     "text": [
      "       GAME_ID  SHOT_MADE  LOC_X  LOC_Y\n",
      "1884  22300757       True    4.0   35.0\n",
      "1886  22300575      False    4.0   35.0\n",
      "1890  22301018      False    4.0   35.0\n",
      "1894  22300834      False    4.0   35.0\n",
      "1912  22300039      False    4.0   35.0\n",
      "1918  22300190      False    4.0   35.0\n",
      "1930  22300788       True    4.0   35.0\n",
      "1944  22301094      False    4.0   35.0\n",
      "1948  22301039      False    4.0   35.0\n",
      "1950  22300276      False    4.0   35.0\n",
      "1964  22300188      False    4.0   35.0\n",
      "3337  22300055       True    4.0   35.0\n",
      "3354  22300512      False    4.0   35.0\n",
      "3376  22300548      False    4.0   35.0\n",
      "3381  22300085       True    4.0   35.0\n",
      "3390  22300002      False    4.0   35.0\n",
      "3403  22300795      False    4.0   35.0\n",
      "3411  22301002       True    4.0   35.0\n",
      "       GAME_ID  SHOT_MADE  LOC_X  LOC_Y\n",
      "1884  22300757       True    4.0   35.0\n",
      "1930  22300788       True    4.0   35.0\n",
      "3337  22300055       True    4.0   35.0\n",
      "3381  22300085       True    4.0   35.0\n",
      "3411  22301002       True    4.0   35.0\n",
      "       GAME_ID  SHOT_MADE  LOC_X  LOC_Y\n",
      "1886  22300575      False    4.0   35.0\n",
      "1890  22301018      False    4.0   35.0\n",
      "1894  22300834      False    4.0   35.0\n",
      "1912  22300039      False    4.0   35.0\n",
      "1918  22300190      False    4.0   35.0\n",
      "1944  22301094      False    4.0   35.0\n",
      "1948  22301039      False    4.0   35.0\n",
      "1950  22300276      False    4.0   35.0\n",
      "1964  22300188      False    4.0   35.0\n",
      "3354  22300512      False    4.0   35.0\n",
      "3376  22300548      False    4.0   35.0\n",
      "3390  22300002      False    4.0   35.0\n",
      "3403  22300795      False    4.0   35.0\n",
      "0.2777777777777778\n"
     ]
    }
   ],
   "source": [
    "coords = data.loc[:, ['GAME_ID','SHOT_MADE','LOC_X', 'LOC_Y']].round()\n",
    "# print(coords)\n",
    "\n",
    "def point_shot(data, x_coord, y_coord):\n",
    "    try:\n",
    "        ## find all shots taken from that point\n",
    "        shots_at_coord = coords[(coords['LOC_X'] == x_coord) & (coords['LOC_Y'] == y_coord)]\n",
    "        print(shots_at_coord)\n",
    "        ## calculate all shots made from that point\n",
    "        shots_made_at_coord = shots_at_coord[(shots_at_coord['SHOT_MADE'] == True)]\n",
    "        print(shots_made_at_coord)\n",
    "        shots_not_made_at_coord = shots_at_coord[(shots_at_coord['SHOT_MADE'] == False)]\n",
    "        print(shots_not_made_at_coord)\n",
    "        ## divide shots made by total shots and return percentage\n",
    "        return len(shots_made_at_coord)/len(shots_at_coord)\n",
    "    except ZeroDivisionError:\n",
    "        return \"N/A\"\n",
    "\n",
    "print(point_shot(coords, 4, 35))"
   ]
  },
  {
   "cell_type": "code",
   "execution_count": 187,
   "metadata": {},
   "outputs": [
    {
     "name": "stdout",
     "output_type": "stream",
     "text": [
      "85\n"
     ]
    }
   ],
   "source": [
    "#22300001\n",
    "\n",
    "coords = data.loc[:, ['GAME_ID','SHOT_MADE','LOC_X', 'LOC_Y']].round()\n",
    "temp = coords[(coords['GAME_ID'] == 22300548) & (coords['SHOT_MADE'] == True)]\n",
    "print(len(temp))\n"
   ]
  }
 ],
 "metadata": {
  "kernelspec": {
   "display_name": "base",
   "language": "python",
   "name": "python3"
  },
  "language_info": {
   "codemirror_mode": {
    "name": "ipython",
    "version": 3
   },
   "file_extension": ".py",
   "mimetype": "text/x-python",
   "name": "python",
   "nbconvert_exporter": "python",
   "pygments_lexer": "ipython3",
   "version": "3.9.7"
  }
 },
 "nbformat": 4,
 "nbformat_minor": 2
}
